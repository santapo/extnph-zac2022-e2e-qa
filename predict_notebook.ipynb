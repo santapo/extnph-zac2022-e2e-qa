{
 "cells": [
  {
   "cell_type": "code",
   "execution_count": 1,
   "metadata": {},
   "outputs": [
    {
     "name": "stderr",
     "output_type": "stream",
     "text": [
      "/home/ailab/.local/lib/python3.8/site-packages/tqdm/auto.py:22: TqdmWarning: IProgress not found. Please update jupyter and ipywidgets. See https://ipywidgets.readthedocs.io/en/stable/user_install.html\n",
      "  from .autonotebook import tqdm as notebook_tqdm\n",
      "2022-11-28 23:07:00.729262: I tensorflow/core/platform/cpu_feature_guard.cc:193] This TensorFlow binary is optimized with oneAPI Deep Neural Network Library (oneDNN) to use the following CPU instructions in performance-critical operations:  AVX2 FMA\n",
      "To enable them in other operations, rebuild TensorFlow with the appropriate compiler flags.\n",
      "2022-11-28 23:07:00.871642: E tensorflow/stream_executor/cuda/cuda_blas.cc:2981] Unable to register cuBLAS factory: Attempting to register factory for plugin cuBLAS when one has already been registered\n",
      "2022-11-28 23:07:01.471725: W tensorflow/stream_executor/platform/default/dso_loader.cc:64] Could not load dynamic library 'libnvinfer.so.7'; dlerror: libnvinfer.so.7: cannot open shared object file: No such file or directory; LD_LIBRARY_PATH: /usr/local/cuda-11.3/include:/usr/local/cuda-11.3/lib64:\n",
      "2022-11-28 23:07:01.471797: W tensorflow/stream_executor/platform/default/dso_loader.cc:64] Could not load dynamic library 'libnvinfer_plugin.so.7'; dlerror: libnvinfer_plugin.so.7: cannot open shared object file: No such file or directory; LD_LIBRARY_PATH: /usr/local/cuda-11.3/include:/usr/local/cuda-11.3/lib64:\n",
      "2022-11-28 23:07:01.471803: W tensorflow/compiler/tf2tensorrt/utils/py_utils.cc:38] TF-TRT Warning: Cannot dlopen some TensorRT libraries. If you would like to use Nvidia GPU with TensorRT, please make sure the missing libraries mentioned above are installed properly.\n"
     ]
    }
   ],
   "source": [
    "import time\n",
    "\n",
    "import pandas as pd\n",
    "\n",
    "from base import tokenizers\n",
    "from predict import *\n",
    "from retriever.indexing.es_client import ES\n",
    "from scripts.utils.post_processing import load_classify_model\n",
    "from scripts.utils.util import *"
   ]
  },
  {
   "cell_type": "code",
   "execution_count": 2,
   "metadata": {},
   "outputs": [],
   "source": [
    "MODEL_PATH = \"nguyenvulebinh/vi-mrc-large\"\n",
    "SCRIPTED_MODEL_PATH = \"data/traced_mrc.pt\"\n",
    "CLASSIFY_MODEL_PATH = \"data/model_classify\"\n",
    "BATCH_SIZE = 16\n",
    "\n",
    "# model = load_qna_model(MODEL_PATH,\n",
    "#                         BATCH_SIZE,\n",
    "#                         device=0,\n",
    "#                         doc_stride=50,\n",
    "#                         max_seq_len=128,\n",
    "#                         handle_impossible_answer=True)\n",
    "model_1 = load_scripted_qna_model(SCRIPTED_MODEL_PATH,\n",
    "                                MODEL_PATH,\n",
    "                                BATCH_SIZE,\n",
    "                                device=0,\n",
    "                                max_seq_len=128,\n",
    "                                doc_stride=10,\n",
    "                                handle_impossible_answer=False)\n",
    "model_2 = load_scripted_qna_model(SCRIPTED_MODEL_PATH,\n",
    "                                MODEL_PATH,\n",
    "                                BATCH_SIZE,\n",
    "                                device=0,\n",
    "                                max_seq_len=384,\n",
    "                                doc_stride=50,\n",
    "                                handle_impossible_answer=False)\n",
    "question_classifier = load_classify_model(CLASSIFY_MODEL_PATH)"
   ]
  },
  {
   "cell_type": "code",
   "execution_count": 3,
   "metadata": {},
   "outputs": [],
   "source": [
    "ES_HOST = \"localhost\"\n",
    "ES_PORT = \"9200\"\n",
    "ES_TITLE_INDEX = \"wikipedia\"\n",
    "ES_DOCUMENT_INDEX = \"paragraph\"\n",
    "TEST_PATH = \"./data/e2eqa-train+public_test-v1/zac2022_testa_only_question.json\"\n",
    "MAP_ANSWER = \"scripts/utils/map.json\"\n",
    "\n",
    "es_context = ES(ES_HOST, ES_PORT, ES_DOCUMENT_INDEX)\n",
    "es_map_title = ES(ES_HOST, ES_PORT, ES_TITLE_INDEX)\n",
    "data = read_file(TEST_PATH)\n",
    "data = data['data']\n",
    "mapper = read_file(MAP_ANSWER)\n",
    "\n",
    "tok_class = tokenizers.get_class('corenlp')\n",
    "tokenizer = tok_class()"
   ]
  },
  {
   "cell_type": "code",
   "execution_count": 4,
   "metadata": {},
   "outputs": [
    {
     "name": "stderr",
     "output_type": "stream",
     "text": [
      "/home/ailab/anaconda3/envs/extnph2/lib/python3.8/site-packages/elasticsearch/connection/base.py:208: ElasticsearchWarning: Elasticsearch built-in security features are not enabled. Without authentication, your cluster could be accessible to anyone. See https://www.elastic.co/guide/en/elasticsearch/reference/7.13/security-minimal-setup.html to enable security.\n",
      "  warnings.warn(message, category=ElasticsearchWarning)\n",
      "/home/ailab/anaconda3/envs/extnph2/lib/python3.8/site-packages/transformers/pipelines/base.py:1043: UserWarning: You seem to be using the pipelines sequentially on GPU. In order to maximize efficiency please use a dataset\n",
      "  warnings.warn(\n"
     ]
    }
   ],
   "source": [
    "K = 3\n",
    "\n",
    "results = []\n",
    "all_predicted_time = []\n",
    "for i, d in enumerate(data):\n",
    "    tmp = {}\n",
    "    _id = d['id']\n",
    "    start_time = time.time()\n",
    "    question = d['question']\n",
    "    question = clean_question(question)\n",
    "    contexts = get_contexts(question,es_context,tokenizer, k=K)\n",
    "    contexts = \" \".join(contexts)\n",
    "    # answers = get_answers(model, question, contexts)\n",
    "    answers_1, score_1 = get_answers(model_1, question, contexts)\n",
    "    answers_2, score_2 = get_answers(model_2, question, contexts)\n",
    "    answers = answers_1\n",
    "    if score_2 > score_1:\n",
    "        answers = answers_2\n",
    "    tmp['answer'] = answers\n",
    "    if answers:\n",
    "        tmp['answer'] =  correct_answers(es_map_title, question, answers, question_classifier, mapper)\n",
    "    end_time = time.time()\n",
    "    predicted_time = int((end_time - start_time) * 1000)\n",
    "    tmp['id'] = _id\n",
    "    tmp['question'] = question\n",
    "    results.append(tmp)\n",
    "    all_predicted_time.append((_id, predicted_time))\n",
    "\n",
    "write_file(\"jupyter_submission.json\", {\"data\": results})\n",
    "all_predicted_time_df = pd.DataFrame(all_predicted_time, columns=[\"fname\", \"time (millisecond)\"])\n",
    "all_predicted_time_df.to_csv(\"time_submission.csv\")\n",
    "tokenizer.shutdown()"
   ]
  },
  {
   "cell_type": "code",
   "execution_count": null,
   "metadata": {},
   "outputs": [],
   "source": []
  }
 ],
 "metadata": {
  "kernelspec": {
   "display_name": "Python 3.8.15 ('extnph2')",
   "language": "python",
   "name": "python3"
  },
  "language_info": {
   "codemirror_mode": {
    "name": "ipython",
    "version": 3
   },
   "file_extension": ".py",
   "mimetype": "text/x-python",
   "name": "python",
   "nbconvert_exporter": "python",
   "pygments_lexer": "ipython3",
   "version": "3.8.15"
  },
  "orig_nbformat": 4,
  "vscode": {
   "interpreter": {
    "hash": "ba5232af8624b52247c131b16bf78157381430cc0bd669f14b5ac7f037eaa2b8"
   }
  }
 },
 "nbformat": 4,
 "nbformat_minor": 2
}
