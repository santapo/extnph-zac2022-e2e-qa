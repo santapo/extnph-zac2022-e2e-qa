{
 "cells": [
  {
   "attachments": {},
   "cell_type": "markdown",
   "metadata": {},
   "source": [
    "### Create pseudo-label dataset"
   ]
  },
  {
   "cell_type": "code",
   "execution_count": null,
   "metadata": {},
   "outputs": [],
   "source": [
    "%cd ..\n",
    "import pandas as pd\n",
    "from tqdm import tqdm\n",
    "\n",
    "from utils import *\n",
    "from utils.utils import clean, read_file"
   ]
  },
  {
   "cell_type": "code",
   "execution_count": null,
   "metadata": {},
   "outputs": [],
   "source": [
    "s_date_kw = [\"ngày tháng năm\",\"ngày\",\"ngày tháng\",\"năm\",\"tháng\",\"thế kỷ\"]\n",
    "e_date_kw = [\" nào\",\" bao nhiêu\",\" mấy\"]\n",
    "date_kw = [s + e for s in s_date_kw for e in e_date_kw]\n",
    "\n",
    "data_path = \"./data/e2eqa-train+public_test-v1/zac2022_train_merged_final.json\"\n",
    "max_wiki = 2000\n",
    "data = read_file(data_path)\n",
    "data = data['data']\n",
    "texts = []\n",
    "lbs = []\n",
    "count_wiki = 0\n",
    "for idx,row in tqdm(enumerate(data)):\n",
    "    answer = row.get('answer',False)\n",
    "    text = clean(row['question'])\n",
    "    lb = None\n",
    "    if not answer:\n",
    "        if any([kw in text for kw in date_kw]):\n",
    "            lb = 1\n",
    "        elif \"mấy\" in text or \"bao nhiêu\" in text:\n",
    "            lb = 2\n",
    "    else:\n",
    "        if \"wiki\" in answer :\n",
    "            lb = 0\n",
    "        elif \"ngày\" in answer or \"tháng\" in answer or \"năm\" in answer or \"thế kỷ\" in answer or \"thế kỉ\" in answer:\n",
    "            lb = 1\n",
    "        else:\n",
    "            lb = 2\n",
    "    if lb in [0,1,2]:\n",
    "        if lb ==0:\n",
    "            if count_wiki <= max_wiki:\n",
    "                texts.append(text)\n",
    "                lbs.append(lb)\n",
    "                count_wiki += 1\n",
    "        else:\n",
    "            texts.append(text)\n",
    "            lbs.append(lb)\n",
    "        \n",
    "res = pd.DataFrame(data={'text':texts,'label':lbs})\n",
    "res.to_csv('./data/e2eqa-train+public_test-v1/classify_data.csv',index=False)"
   ]
  },
  {
   "attachments": {},
   "cell_type": "markdown",
   "metadata": {},
   "source": [
    "### Train Question-Type classification model"
   ]
  },
  {
   "cell_type": "code",
   "execution_count": null,
   "metadata": {},
   "outputs": [],
   "source": [
    "# run.py is able to recieve bash command arguments. You can check arguments in ./train/qtype_classifier/arguments.py\n",
    "\n",
    "# Run wandb in offline mode in the case you don't have a wandb account\n",
    "!wandb offline\n",
    "!python train/qtype_classifier/run.py\n",
    "\n",
    "# Otherwise you can run in wandb online by these commands below\n",
    "!wandb online\n",
    "!WANDB_API_KEY=<YOUR_API_KEY> python train/qtype_classiifer/run.py"
   ]
  }
 ],
 "metadata": {
  "kernelspec": {
   "display_name": "extnph",
   "language": "python",
   "name": "python3"
  },
  "language_info": {
   "codemirror_mode": {
    "name": "ipython",
    "version": 3
   },
   "file_extension": ".py",
   "mimetype": "text/x-python",
   "name": "python",
   "nbconvert_exporter": "python",
   "pygments_lexer": "ipython3",
   "version": "3.9.15 | packaged by conda-forge | (main, Nov 22 2022, 08:48:25) \n[Clang 14.0.6 ]"
  },
  "orig_nbformat": 4,
  "vscode": {
   "interpreter": {
    "hash": "edb0e93440d113693a5264eba7ad95c10b73b91ee9467da5ac7e8eb2d7bafa9f"
   }
  }
 },
 "nbformat": 4,
 "nbformat_minor": 2
}
