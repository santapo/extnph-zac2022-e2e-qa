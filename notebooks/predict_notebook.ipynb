{
 "cells": [
  {
   "cell_type": "code",
   "execution_count": null,
   "metadata": {},
   "outputs": [],
   "source": [
    "import time\n",
    "\n",
    "import pandas as pd\n",
    "\n",
    "import tokenizers\n",
    "from predict import *\n",
    "from retriever.indexing.es_client import ES\n",
    "from utils.post_processing import load_classify_model\n",
    "from utils.utils import *"
   ]
  },
  {
   "cell_type": "code",
   "execution_count": null,
   "metadata": {},
   "outputs": [],
   "source": [
    "MODEL_PATH = \"nguyenvulebinh/vi-mrc-large\"\n",
    "SCRIPTED_MODEL_PATH = \"data/traced_mrc.pt\"\n",
    "CLASSIFY_MODEL_PATH = \"data/model_classify\"\n",
    "BATCH_SIZE = 16\n",
    "\n",
    "model_1 = load_scripted_qna_model(SCRIPTED_MODEL_PATH,\n",
    "                                MODEL_PATH,\n",
    "                                BATCH_SIZE,\n",
    "                                device=0,\n",
    "                                max_seq_len=128,\n",
    "                                doc_stride=10,\n",
    "                                handle_impossible_answer=False)\n",
    "model_2 = load_scripted_qna_model(SCRIPTED_MODEL_PATH,\n",
    "                                MODEL_PATH,\n",
    "                                BATCH_SIZE,\n",
    "                                device=0,\n",
    "                                max_seq_len=384,\n",
    "                                doc_stride=50,\n",
    "                                handle_impossible_answer=False)\n",
    "question_classifier = load_classify_model(CLASSIFY_MODEL_PATH)"
   ]
  },
  {
   "cell_type": "code",
   "execution_count": null,
   "metadata": {},
   "outputs": [],
   "source": [
    "ES_HOST = \"localhost\"\n",
    "ES_PORT = \"9200\"\n",
    "ES_TITLE_INDEX = \"wikipedia\"\n",
    "ES_DOCUMENT_INDEX = \"paragraph\"\n",
    "TEST_PATH = \"./data/e2eqa-train+public_test-v1/zac2022_testa_only_question.json\"\n",
    "MAP_ANSWER = \"scripts/utils/map.json\"\n",
    "\n",
    "es_context = ES(ES_HOST, ES_PORT, ES_DOCUMENT_INDEX)\n",
    "es_map_title = ES(ES_HOST, ES_PORT, ES_TITLE_INDEX)\n",
    "data = read_file(TEST_PATH)\n",
    "data = data['data']\n",
    "mapper = read_file(MAP_ANSWER)\n",
    "\n",
    "tok_class = tokenizer.get_class('corenlp')\n",
    "tokenizer = tok_class()"
   ]
  },
  {
   "cell_type": "code",
   "execution_count": null,
   "metadata": {},
   "outputs": [],
   "source": [
    "K = 3\n",
    "\n",
    "results = []\n",
    "all_predicted_time = []\n",
    "for i, d in enumerate(data):\n",
    "    tmp = {}\n",
    "    _id = d['id']\n",
    "    start_time = time.time()\n",
    "    question = d['question']\n",
    "    question = clean_question(question)\n",
    "    contexts = get_contexts(question,es_context,tokenizer, k=K)\n",
    "    contexts = \" \".join(contexts)\n",
    "    # answers = get_answers(model, question, contexts)\n",
    "    answers_1, score_1 = get_answers(model_1, question, contexts)\n",
    "    answers_2, score_2 = get_answers(model_2, question, contexts)\n",
    "    answers = answers_1\n",
    "    if score_2 > score_1:\n",
    "        answers = answers_2\n",
    "    tmp['answer'] = answers\n",
    "    if answers:\n",
    "        tmp['answer'] =  correct_answers(es_map_title, question, answers, question_classifier, mapper)\n",
    "    end_time = time.time()\n",
    "    predicted_time = int((end_time - start_time) * 1000)\n",
    "    tmp['id'] = _id\n",
    "    tmp['question'] = question\n",
    "    results.append(tmp)\n",
    "    all_predicted_time.append((_id, predicted_time))\n",
    "\n",
    "write_file(\"jupyter_submission.json\", {\"data\": results})\n",
    "all_predicted_time_df = pd.DataFrame(all_predicted_time, columns=[\"fname\", \"time (millisecond)\"])\n",
    "all_predicted_time_df.to_csv(\"time_submission.csv\")\n",
    "tokenizer.shutdown()"
   ]
  }
 ],
 "metadata": {
  "kernelspec": {
   "display_name": "extnph",
   "language": "python",
   "name": "python3"
  },
  "language_info": {
   "codemirror_mode": {
    "name": "ipython",
    "version": 3
   },
   "file_extension": ".py",
   "mimetype": "text/x-python",
   "name": "python",
   "nbconvert_exporter": "python",
   "pygments_lexer": "ipython3",
   "version": "3.9.15 | packaged by conda-forge | (main, Nov 22 2022, 08:48:25) \n[Clang 14.0.6 ]"
  },
  "orig_nbformat": 4,
  "vscode": {
   "interpreter": {
    "hash": "edb0e93440d113693a5264eba7ad95c10b73b91ee9467da5ac7e8eb2d7bafa9f"
   }
  }
 },
 "nbformat": 4,
 "nbformat_minor": 2
}
